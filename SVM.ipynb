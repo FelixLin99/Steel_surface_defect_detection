{
 "cells": [
  {
   "cell_type": "code",
   "execution_count": null,
   "metadata": {},
   "outputs": [],
   "source": [
    "# 导入模块\n",
    "import IPython\n",
    "import sklearn as sk\n",
    "import numpy as np\n",
    "import matplotlib\n",
    "import matplotlib.pyplot as plt\n",
    "\n",
    "# 查看版本号\n",
    "print ('IPython version:', IPython.__version__)\n",
    "print ('numpy version:', np.__version__)\n",
    "print ('scikit-learn version:', sk.__version__)\n",
    "print ('matplotlib version:', matplotlib.__version__)"
   ]
  },
  {
   "cell_type": "markdown",
   "metadata": {},
   "source": [
    "### （1）获取X 和 y\n",
    " - 定义了get_X_and_y函数，可快速获得X和y"
   ]
  },
  {
   "cell_type": "code",
   "execution_count": null,
   "metadata": {},
   "outputs": [],
   "source": [
    "import pandas \n",
    "\n",
    "train_df = pandas.read_csv('train.csv')"
   ]
  },
  {
   "cell_type": "code",
   "execution_count": null,
   "metadata": {},
   "outputs": [],
   "source": [
    "def rle2mask(rle, input_shape=(256,1600)):\n",
    "    height, width = input_shape\n",
    "    #shape = input_shape[:2] #(256,1600)\n",
    "    \n",
    "    mask= np.zeros( height*width ).astype(np.uint8) \n",
    "    array = np.asarray([int(x) for x in rle.split()])\n",
    "    starts = array[0::2]\n",
    "    lengths = array[1::2]\n",
    "    \n",
    "    starts -= 1 #因为起始值是1，所以先要把坐标减一下\n",
    "    ends = starts + lengths\n",
    "    \n",
    "    for index, start in enumerate(starts):\n",
    "        mask[int(start):int(start+lengths[index])] = 1 \n",
    "    return mask"
   ]
  },
  {
   "cell_type": "code",
   "execution_count": null,
   "metadata": {},
   "outputs": [],
   "source": [
    "import pandas \n",
    "train_df = pandas.read_csv('train.csv')\n",
    "\n",
    "df_class_1 = train_df[train_df[\"ClassId\"]==1]\n",
    "df_class_2 = train_df[train_df[\"ClassId\"]==2]\n",
    "df_class_3 = train_df[train_df[\"ClassId\"]==3]\n",
    "df_class_4 = train_df[train_df[\"ClassId\"]==4]\n",
    "\n",
    "def get_mask_from_single_Class (ClassId, num):  \n",
    "    df = eval(\"df_class_\" + str(ClassId))\n",
    "    \n",
    "    import random\n",
    "    random.seed(33)   #修改随机种子会取得不同的结果\n",
    "    try:\n",
    "        Index_List = random.sample(range(0,df.shape[0]), num)\n",
    "    except:\n",
    "        return(\"num超过训练集提供的{}类裂纹数量\".format(ClassId))\n",
    "    \n",
    "    mask = np.zeros((num, 409600))\n",
    "    for i,index in enumerate(Index_List):\n",
    "        mask[i] = rle2mask(df.iloc[index][\"EncodedPixels\"])\n",
    "    \n",
    "    return mask # 返回ClassId中随机抽取得到的num个裂缝，组成的(num,409600)数组\n",
    "\n",
    "def get_X_and_y (NUM = []):  #希望每个Class中被抽取多少个放入X呢？输入列表类型，比如(200,230,250,300),表示一次取I类200个，Ⅱ类230个...\n",
    "    X = get_mask_from_single_Class (1, NUM[0])\n",
    "    y = np.zeros(NUM[0]).astype(int) + 1\n",
    "    for i in range(2,5):\n",
    "        X = np.concatenate((X, get_mask_from_single_Class (i, NUM[i-1])))\n",
    "        y = np.concatenate((y, np.zeros(NUM[i-1]).astype(int) + i))\n",
    "    return X, y"
   ]
  },
  {
   "cell_type": "code",
   "execution_count": null,
   "metadata": {},
   "outputs": [],
   "source": [
    "print(df_class_1.shape)\n",
    "print(df_class_2.shape)\n",
    "print(df_class_3.shape)\n",
    "print(df_class_4.shape)"
   ]
  },
  {
   "cell_type": "code",
   "execution_count": null,
   "metadata": {},
   "outputs": [],
   "source": [
    "NUM = [250,240,260,250]\n",
    "X,y = get_X_and_y(NUM)"
   ]
  },
  {
   "cell_type": "markdown",
   "metadata": {},
   "source": [
    "### （2）获取训练集和测试集"
   ]
  },
  {
   "cell_type": "code",
   "execution_count": null,
   "metadata": {},
   "outputs": [],
   "source": [
    "from sklearn.model_selection import train_test_split\n",
    "X_train, X_test, y_train, y_test = train_test_split(\n",
    "    X, y, test_size=0.25, random_state=0)"
   ]
  },
  {
   "cell_type": "markdown",
   "metadata": {},
   "source": [
    "### （3）采用SVM进行训练"
   ]
  },
  {
   "cell_type": "code",
   "execution_count": null,
   "metadata": {},
   "outputs": [],
   "source": [
    "from sklearn.svm import SVC\n",
    "svc_1 = SVC(kernel='linear')"
   ]
  },
  {
   "cell_type": "code",
   "execution_count": null,
   "metadata": {},
   "outputs": [],
   "source": [
    "svc_1.fit(X, y)"
   ]
  },
  {
   "cell_type": "markdown",
   "metadata": {},
   "source": [
    "### （4）训练结果展示"
   ]
  },
  {
   "cell_type": "markdown",
   "metadata": {},
   "source": [
    " - $K折分析$"
   ]
  },
  {
   "cell_type": "code",
   "execution_count": null,
   "metadata": {},
   "outputs": [],
   "source": [
    "from sklearn.model_selection import cross_val_score, KFold\n",
    "from scipy.stats import sem # sem 标准误差平均\n",
    "\n",
    "def evaluate_cross_validation(clf, X, y, K):\n",
    "    # 创建 K-折交叉验证迭代器对象\n",
    "    cv = KFold(K, shuffle=True, random_state=0)\n",
    "    #cv = KFold(len(y), K, shuffle=True, random_state=0)\n",
    "    # 计算返回分数\n",
    "    scores = cross_val_score(clf, X, y, cv=cv)\n",
    "    print (scores)\n",
    "    print ((\"\\n平均值: {0:.3f} (均标准差:+/-{1:.3f})\").\n",
    "           format(\n",
    "               np.mean(scores), # 均值\n",
    "               sem(scores) )    # 均标准差\n",
    "           )"
   ]
  },
  {
   "cell_type": "code",
   "execution_count": null,
   "metadata": {},
   "outputs": [],
   "source": [
    "evaluate_cross_validation(svc_1, X_train, y_train, 5)"
   ]
  },
  {
   "cell_type": "markdown",
   "metadata": {},
   "source": [
    " - $分类识别效果$"
   ]
  },
  {
   "cell_type": "code",
   "execution_count": null,
   "metadata": {},
   "outputs": [],
   "source": [
    "from sklearn import metrics\n",
    "\n",
    "def train_and_evaluate(clf, X_train, X_test, y_train, y_test):\n",
    "    clf.fit(X_train, y_train)             # 训练\n",
    "    \n",
    "    print (\"训练集精度:\")   # 训练集精度\n",
    "    print (clf.score(X_train, y_train))\n",
    "\n",
    "    print (\"\\n测试集精度:\")    # 测试集精度\n",
    "    print (clf.score(X_test, y_test))\n",
    "    \n",
    "    y_pred = clf.predict(X_test)\n",
    "    \n",
    "    print (\"\\n分类识别报告:\")      # 分类识别报告\n",
    "    print (metrics.classification_report(y_test, y_pred))\n",
    "\n",
    "    print (\"\\n混淆矩阵:\")           # 混淆矩阵\n",
    "    print (metrics.confusion_matrix(y_test, y_pred))"
   ]
  },
  {
   "cell_type": "code",
   "execution_count": null,
   "metadata": {},
   "outputs": [],
   "source": [
    "# 用测试集测试\n",
    "y_pred = svc_1.predict(X_test)"
   ]
  },
  {
   "cell_type": "code",
   "execution_count": null,
   "metadata": {},
   "outputs": [],
   "source": [
    "# 输出分类识别报告\n",
    "print (\"分类识别报告:\")\n",
    "report_str = metrics.classification_report(y_test, y_pred)\n",
    "print (report_str)"
   ]
  },
  {
   "cell_type": "code",
   "execution_count": null,
   "metadata": {},
   "outputs": [],
   "source": [
    "# 计算混淆矩阵并输出\n",
    "conf_mat = metrics.confusion_matrix(y_test, y_pred)\n",
    "\n",
    "print (\"混淆矩阵维度\")\n",
    "print (conf_mat.shape)\n",
    "\n",
    "print (\"\\n\\n\")\n",
    "\n",
    "print (\"混淆矩阵:\")\n",
    "print (conf_mat[:,:])"
   ]
  },
  {
   "cell_type": "code",
   "execution_count": null,
   "metadata": {},
   "outputs": [],
   "source": [
    "#输出总的训练与评价结果\n",
    "train_and_evaluate(svc_1, X_train, X_test, y_train, y_test)"
   ]
  }
 ],
 "metadata": {
  "kernelspec": {
   "display_name": "Python 3",
   "language": "python",
   "name": "python3"
  },
  "language_info": {
   "codemirror_mode": {
    "name": "ipython",
    "version": 3
   },
   "file_extension": ".py",
   "mimetype": "text/x-python",
   "name": "python",
   "nbconvert_exporter": "python",
   "pygments_lexer": "ipython3",
   "version": "3.7.4"
  }
 },
 "nbformat": 4,
 "nbformat_minor": 2
}
